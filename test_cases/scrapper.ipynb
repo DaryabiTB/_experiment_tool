{
 "cells": [
  {
   "cell_type": "code",
   "execution_count": 10,
   "metadata": {},
   "outputs": [],
   "source": [
    "# Import packages\n",
    "import requests\n",
    "import pandas as pd\n",
    "from bs4 import BeautifulSoup\n",
    "from datetime import datetime"
   ]
  },
  {
   "cell_type": "code",
   "execution_count": 11,
   "metadata": {},
   "outputs": [],
   "source": [
    "# Header to set the requests as a browser requests\n",
    "headers = {\n",
    "    'authority': 'www.amazon.com',\n",
    "    'accept': 'text/html,application/xhtml+xml,application/xml;q=0.9,image/avif,image/webp,image/apng,*/*;q=0.8,application/signed-exchange;v=b3;q=0.9',\n",
    "    'accept-language': 'en-US,en;q=0.9,bn;q=0.8',\n",
    "    'sec-ch-ua': '\" Not A;Brand\";v=\"99\", \"Chromium\";v=\"102\", \"Google Chrome\";v=\"102\"',\n",
    "    'user-agent': 'Mozilla/5.0 (Windows NT 10.0; Win64; x64) AppleWebKit/537.36 (KHTML, like Gecko) Chrome/102.0.0.0 Safari/537.36'\n",
    "}"
   ]
  },
  {
   "cell_type": "code",
   "execution_count": 12,
   "metadata": {},
   "outputs": [],
   "source": [
    "# URL of The amazon Review page\n",
    "reviews_url = 'https://www.amazon.com/Legendary-Whitetails-Journeyman-Jacket-Tarmac/product-reviews/B013KW38RQ/'"
   ]
  },
  {
   "cell_type": "code",
   "execution_count": 49,
   "metadata": {},
   "outputs": [],
   "source": [
    "# Define Page No\n",
    "len_page = 100"
   ]
  },
  {
   "cell_type": "code",
   "execution_count": 50,
   "metadata": {},
   "outputs": [],
   "source": [
    "# Extra Data as Html object from amazon Review page\n",
    "def reviewsHtml(url, len_page):\n",
    "\n",
    "    # Empty List define to store all pages html data\n",
    "    soups = []\n",
    "    \n",
    "    # Loop for gather all 3000 reviews from 300 pages via range\n",
    "    for page_no in range(1, len_page + 1):\n",
    "        \n",
    "        # parameter set as page no to the requests body\n",
    "        params = {\n",
    "            'ie': 'UTF8',\n",
    "            'reviewerType': 'all_reviews',\n",
    "            'filterByStar': 'critical',\n",
    "            'pageNumber': page_no,\n",
    "        }\n",
    "\n",
    "        # Request make for each page with updated params\n",
    "        response = requests.get(url, headers=headers, params=params)\n",
    "        \n",
    "        soup1 = BeautifulSoup(response.content, \"html.parser\")\n",
    "        soup2 = BeautifulSoup(soup1.prettify(), \"html.parser\")\n",
    "\n",
    "        # Save Html object by using BeautifulSoup4 and lxml parser\n",
    "        #soup = BeautifulSoup(response.text, 'lxml')\n",
    "        \n",
    "        # Add single Html page data in master soups list\n",
    "        soups.append(soup2)\n",
    "        \n",
    "    return soups\n"
   ]
  },
  {
   "cell_type": "code",
   "execution_count": 51,
   "metadata": {},
   "outputs": [],
   "source": [
    "# Grab Reviews name, description, date, stars, title from HTML\n",
    "def getReviews(html_data):\n",
    "\n",
    "    # Create Empty list to Hold all data\n",
    "    data_dicts = []\n",
    "    \n",
    "    # Select all Reviews BOX html using css selector\n",
    "    boxes = html_data.select('div[data-hook=\"review\"]')\n",
    "    \n",
    "    # Iterate all Reviews BOX \n",
    "    for box in boxes:\n",
    "        \n",
    "        # Select Name using css selector and cleaning text using strip()\n",
    "        # If Value is empty define value with 'N/A' for all.\n",
    "        try:\n",
    "            name = box.select_one('[class=\"a-profile-name\"]').text.strip()\n",
    "        except Exception as e:\n",
    "            name = 'N/A'\n",
    "\n",
    "        try:\n",
    "            stars = box.select_one('[data-hook=\"review-star-rating\"]').text.strip().split(' out')[0]\n",
    "        except Exception as e:\n",
    "            stars = 'N/A'   \n",
    "\n",
    "        try:\n",
    "            title = box.select_one('[data-hook=\"review-title\"]').text.strip()\n",
    "        except Exception as e:\n",
    "            title = 'N/A'\n",
    "\n",
    "        try:\n",
    "            # Convert date str to dd/mm/yyy format\n",
    "            datetime_str = box.select_one('[data-hook=\"review-date\"]').text.strip().split(' on ')[-1]\n",
    "            date = datetime.strptime(datetime_str, '%B %d, %Y').strftime(\"%d/%m/%Y\")\n",
    "        except Exception as e:\n",
    "            date = 'N/A'\n",
    "\n",
    "        try:\n",
    "            description = box.select_one('[data-hook=\"review-body\"]').text.strip()\n",
    "        except Exception as e:\n",
    "            description = 'N/A'\n",
    "\n",
    "        # create Dictionary with al review data \n",
    "        data_dict = {\n",
    "            'Name' : name,\n",
    "            'Stars' : stars,\n",
    "            'Title' : title,\n",
    "            'Date' : date,\n",
    "            'Description' : description\n",
    "        }\n",
    "\n",
    "        # Add Dictionary in master empty List\n",
    "        data_dicts.append(data_dict)\n",
    "    \n",
    "    return data_dicts"
   ]
  },
  {
   "cell_type": "code",
   "execution_count": 52,
   "metadata": {},
   "outputs": [],
   "source": [
    "# Grab all HTML\n",
    "html_datas = reviewsHtml(reviews_url, len_page)"
   ]
  },
  {
   "cell_type": "code",
   "execution_count": 53,
   "metadata": {},
   "outputs": [],
   "source": [
    "# Empty List to Hold all reviews data\n",
    "reviews = []"
   ]
  },
  {
   "cell_type": "code",
   "execution_count": 54,
   "metadata": {},
   "outputs": [],
   "source": [
    "# Iterate all Html page \n",
    "for html_data in html_datas:\n",
    "    \n",
    "    # Grab review data\n",
    "    review = getReviews(html_data)\n",
    "    \n",
    "    # add review data in reviews empty list\n",
    "    reviews += review"
   ]
  },
  {
   "cell_type": "code",
   "execution_count": 55,
   "metadata": {},
   "outputs": [],
   "source": [
    "# Create a dataframe with reviews Data\n",
    "df_reviews = pd.DataFrame(reviews)"
   ]
  },
  {
   "cell_type": "code",
   "execution_count": 56,
   "metadata": {},
   "outputs": [
    {
     "data": {
      "text/html": [
       "<div>\n",
       "<style scoped>\n",
       "    .dataframe tbody tr th:only-of-type {\n",
       "        vertical-align: middle;\n",
       "    }\n",
       "\n",
       "    .dataframe tbody tr th {\n",
       "        vertical-align: top;\n",
       "    }\n",
       "\n",
       "    .dataframe thead th {\n",
       "        text-align: right;\n",
       "    }\n",
       "</style>\n",
       "<table border=\"1\" class=\"dataframe\">\n",
       "  <thead>\n",
       "    <tr style=\"text-align: right;\">\n",
       "      <th></th>\n",
       "      <th>Name</th>\n",
       "      <th>Stars</th>\n",
       "      <th>Title</th>\n",
       "      <th>Date</th>\n",
       "      <th>Description</th>\n",
       "    </tr>\n",
       "  </thead>\n",
       "  <tbody>\n",
       "    <tr>\n",
       "      <th>95</th>\n",
       "      <td>Buddy Steve</td>\n",
       "      <td>3.0</td>\n",
       "      <td>3.0 out of 5 stars\\n                 \\n\\n\\n\\n\\...</td>\n",
       "      <td>12/01/2022</td>\n",
       "      <td>The style of the Tarmac is NOT as shown in the...</td>\n",
       "    </tr>\n",
       "    <tr>\n",
       "      <th>96</th>\n",
       "      <td>Reed Martindale</td>\n",
       "      <td>3.0</td>\n",
       "      <td>3.0 out of 5 stars\\n                 \\n\\n\\n\\n\\...</td>\n",
       "      <td>06/10/2022</td>\n",
       "      <td>Had a hole in the right pocket. Didn't notice ...</td>\n",
       "    </tr>\n",
       "    <tr>\n",
       "      <th>97</th>\n",
       "      <td>Yeah Man...!!!</td>\n",
       "      <td>1.0</td>\n",
       "      <td>1.0 out of 5 stars\\n                 \\n\\n\\n\\n\\...</td>\n",
       "      <td>31/03/2023</td>\n",
       "      <td>I received this jacket in October of 2022 and ...</td>\n",
       "    </tr>\n",
       "    <tr>\n",
       "      <th>98</th>\n",
       "      <td>John</td>\n",
       "      <td>3.0</td>\n",
       "      <td>3.0 out of 5 stars\\n                 \\n\\n\\n\\n\\...</td>\n",
       "      <td>23/10/2020</td>\n",
       "      <td>This jacket is more of a 2.5 Stars jacket, but...</td>\n",
       "    </tr>\n",
       "    <tr>\n",
       "      <th>99</th>\n",
       "      <td>Amazon Customer</td>\n",
       "      <td>2.0</td>\n",
       "      <td>2.0 out of 5 stars\\n                 \\n\\n\\n\\n\\...</td>\n",
       "      <td>05/11/2021</td>\n",
       "      <td>Ok so i was pretty excited about this jacket. ...</td>\n",
       "    </tr>\n",
       "  </tbody>\n",
       "</table>\n",
       "</div>"
      ],
      "text/plain": [
       "               Name Stars                                              Title  \\\n",
       "95      Buddy Steve   3.0  3.0 out of 5 stars\\n                 \\n\\n\\n\\n\\...   \n",
       "96  Reed Martindale   3.0  3.0 out of 5 stars\\n                 \\n\\n\\n\\n\\...   \n",
       "97   Yeah Man...!!!   1.0  1.0 out of 5 stars\\n                 \\n\\n\\n\\n\\...   \n",
       "98             John   3.0  3.0 out of 5 stars\\n                 \\n\\n\\n\\n\\...   \n",
       "99  Amazon Customer   2.0  2.0 out of 5 stars\\n                 \\n\\n\\n\\n\\...   \n",
       "\n",
       "          Date                                        Description  \n",
       "95  12/01/2022  The style of the Tarmac is NOT as shown in the...  \n",
       "96  06/10/2022  Had a hole in the right pocket. Didn't notice ...  \n",
       "97  31/03/2023  I received this jacket in October of 2022 and ...  \n",
       "98  23/10/2020  This jacket is more of a 2.5 Stars jacket, but...  \n",
       "99  05/11/2021  Ok so i was pretty excited about this jacket. ...  "
      ]
     },
     "execution_count": 56,
     "metadata": {},
     "output_type": "execute_result"
    }
   ],
   "source": [
    "df_reviews.tail()"
   ]
  },
  {
   "cell_type": "code",
   "execution_count": null,
   "metadata": {},
   "outputs": [],
   "source": []
  }
 ],
 "metadata": {
  "kernelspec": {
   "display_name": "venv",
   "language": "python",
   "name": "python3"
  },
  "language_info": {
   "codemirror_mode": {
    "name": "ipython",
    "version": 3
   },
   "file_extension": ".py",
   "mimetype": "text/x-python",
   "name": "python",
   "nbconvert_exporter": "python",
   "pygments_lexer": "ipython3",
   "version": "3.11.4"
  }
 },
 "nbformat": 4,
 "nbformat_minor": 2
}
